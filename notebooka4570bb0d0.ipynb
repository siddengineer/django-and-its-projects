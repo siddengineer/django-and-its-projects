{
 "cells": [
  {
   "cell_type": "code",
   "execution_count": 1,
   "id": "5fd669e9",
   "metadata": {
    "_cell_guid": "b1076dfc-b9ad-4769-8c92-a6c4dae69d19",
    "_uuid": "8f2839f25d086af736a60e9eeb907d3b93b6e0e5",
    "execution": {
     "iopub.execute_input": "2025-05-31T18:16:41.862829Z",
     "iopub.status.busy": "2025-05-31T18:16:41.862486Z",
     "iopub.status.idle": "2025-05-31T18:16:43.876545Z",
     "shell.execute_reply": "2025-05-31T18:16:43.875393Z"
    },
    "papermill": {
     "duration": 2.019716,
     "end_time": "2025-05-31T18:16:43.878733",
     "exception": false,
     "start_time": "2025-05-31T18:16:41.859017",
     "status": "completed"
    },
    "tags": []
   },
   "outputs": [
    {
     "name": "stdout",
     "output_type": "stream",
     "text": [
      "/kaggle/input/imdb-movie-reviews-2021/IMDB_Movies_2021.db\n"
     ]
    }
   ],
   "source": [
    "# This Python 3 environment comes with many helpful analytics libraries installed\n",
    "# It is defined by the kaggle/python Docker image: https://github.com/kaggle/docker-python\n",
    "# For example, here's several helpful packages to load\n",
    "\n",
    "import numpy as np # linear algebra\n",
    "import pandas as pd # data processing, CSV file I/O (e.g. pd.read_csv)\n",
    "\n",
    "# Input data files are available in the read-only \"../input/\" directory\n",
    "# For example, running this (by clicking run or pressing Shift+Enter) will list all files under the input directory\n",
    "\n",
    "import os\n",
    "for dirname, _, filenames in os.walk('/kaggle/input'):\n",
    "    for filename in filenames:\n",
    "        print(os.path.join(dirname, filename))\n",
    "\n",
    "# You can write up to 20GB to the current directory (/kaggle/working/) that gets preserved as output when you create a version using \"Save & Run All\" \n",
    "# You can also write temporary files to /kaggle/temp/, but they won't be saved outside of the current session"
   ]
  },
  {
   "cell_type": "markdown",
   "id": "aabe699b",
   "metadata": {
    "execution": {
     "iopub.execute_input": "2025-05-31T18:09:04.420916Z",
     "iopub.status.busy": "2025-05-31T18:09:04.420516Z",
     "iopub.status.idle": "2025-05-31T18:09:04.446932Z",
     "shell.execute_reply": "2025-05-31T18:09:04.445645Z",
     "shell.execute_reply.started": "2025-05-31T18:09:04.420887Z"
    },
    "papermill": {
     "duration": 0.001534,
     "end_time": "2025-05-31T18:16:43.882730",
     "exception": false,
     "start_time": "2025-05-31T18:16:43.881196",
     "status": "completed"
    },
    "tags": []
   },
   "source": [
    "import sqlite3\n",
    "import pandas as pd\n",
    "conn = sqlite3.connect(\"/kaggle/input/imdb-movie-reviews-2021/IMDB_Movies_2021.db\")\n",
    "tables = pd.read_sql(\"SELECT name From sqlite_master WHERE type = 'table';\",conn)\n",
    "print(\"Tables in DB: \")\n",
    "print(tables)\n",
    "df = pd.read_sql(\"SELECT * FROM Reviews LIMIT 5;\",conn)\n",
    "print(df.head())\n",
    "conn.close()"
   ]
  }
 ],
 "metadata": {
  "kaggle": {
   "accelerator": "none",
   "dataSources": [
    {
     "datasetId": 1379604,
     "sourceId": 2289231,
     "sourceType": "datasetVersion"
    }
   ],
   "dockerImageVersionId": 31040,
   "isGpuEnabled": false,
   "isInternetEnabled": false,
   "language": "python",
   "sourceType": "notebook"
  },
  "kernelspec": {
   "display_name": "Python 3",
   "language": "python",
   "name": "python3"
  },
  "language_info": {
   "codemirror_mode": {
    "name": "ipython",
    "version": 3
   },
   "file_extension": ".py",
   "mimetype": "text/x-python",
   "name": "python",
   "nbconvert_exporter": "python",
   "pygments_lexer": "ipython3",
   "version": "3.11.11"
  },
  "papermill": {
   "default_parameters": {},
   "duration": 7.990618,
   "end_time": "2025-05-31T18:16:44.708280",
   "environment_variables": {},
   "exception": null,
   "input_path": "__notebook__.ipynb",
   "output_path": "__notebook__.ipynb",
   "parameters": {},
   "start_time": "2025-05-31T18:16:36.717662",
   "version": "2.6.0"
  }
 },
 "nbformat": 4,
 "nbformat_minor": 5
}
