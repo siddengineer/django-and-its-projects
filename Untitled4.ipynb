{
  "nbformat": 4,
  "nbformat_minor": 0,
  "metadata": {
    "colab": {
      "provenance": [],
      "toc_visible": true,
      "authorship_tag": "ABX9TyN/SHVgiTApX2O42hm9B7IY",
      "include_colab_link": true
    },
    "kernelspec": {
      "name": "python3",
      "display_name": "Python 3"
    },
    "language_info": {
      "name": "python"
    }
  },
  "cells": [
    {
      "cell_type": "markdown",
      "metadata": {
        "id": "view-in-github",
        "colab_type": "text"
      },
      "source": [
        "<a href=\"https://colab.research.google.com/github/siddengineer/django-and-its-projects/blob/main/Untitled4.ipynb\" target=\"_parent\"><img src=\"https://colab.research.google.com/assets/colab-badge.svg\" alt=\"Open In Colab\"/></a>"
      ]
    },
    {
      "cell_type": "markdown",
      "source": [
        "# Eager Execution"
      ],
      "metadata": {
        "id": "B5Xp4KUjNGtn"
      }
    },
    {
      "cell_type": "code",
      "source": [
        "import tensorflow as tf\n",
        "x = tf.constant(3.0)\n",
        "y = tf.constant(4.0)\n",
        "\n",
        "z = x+y\n",
        "print(z)"
      ],
      "metadata": {
        "colab": {
          "base_uri": "https://localhost:8080/"
        },
        "id": "PCVK59PRNbOh",
        "outputId": "eb126e28-cbac-42d5-bc41-f1fa40dce105"
      },
      "execution_count": 4,
      "outputs": [
        {
          "output_type": "stream",
          "name": "stdout",
          "text": [
            "tf.Tensor(7.0, shape=(), dtype=float32)\n"
          ]
        }
      ]
    },
    {
      "cell_type": "markdown",
      "source": [
        "## Graph Execution"
      ],
      "metadata": {
        "id": "8umE-XXzNvzX"
      }
    },
    {
      "cell_type": "code",
      "source": [
        "import tensorflow as tf\n",
        "@tf.function\n",
        "def add(x,y):\n",
        "  return x + y\n",
        "a = tf.constant(3.0)\n",
        "b = tf.constant(4.0)\n",
        "result = add(a,b)\n",
        "\n",
        "print(\"Result: \",result)\n",
        "print(\"Numpy value: \",result.numpy())"
      ],
      "metadata": {
        "colab": {
          "base_uri": "https://localhost:8080/"
        },
        "id": "jgdwJr-MOEav",
        "outputId": "28ee66f8-6606-439d-9ec4-fa568d1ee9fc"
      },
      "execution_count": 5,
      "outputs": [
        {
          "output_type": "stream",
          "name": "stdout",
          "text": [
            "Result:  tf.Tensor(7.0, shape=(), dtype=float32)\n",
            "Numpy value:  7.0\n"
          ]
        }
      ]
    }
  ]
}